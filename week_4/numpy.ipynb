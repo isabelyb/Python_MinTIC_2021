{
  "nbformat": 4,
  "nbformat_minor": 0,
  "metadata": {
    "colab": {
      "name": "numpy.ipynb",
      "provenance": []
    },
    "kernelspec": {
      "name": "python3",
      "display_name": "Python 3"
    },
    "language_info": {
      "name": "python"
    }
  },
  "cells": [
    {
      "cell_type": "markdown",
      "metadata": {
        "id": "htSb_Qewuvvv"
      },
      "source": [
        "Importar librería Numpy\n"
      ]
    },
    {
      "cell_type": "code",
      "metadata": {
        "id": "jpIUnnCiN-zc"
      },
      "source": [
        "import numpy as np"
      ],
      "execution_count": null,
      "outputs": []
    },
    {
      "cell_type": "code",
      "metadata": {
        "colab": {
          "base_uri": "https://localhost:8080/"
        },
        "id": "BtxUNckdOwGj",
        "outputId": "8f01352c-ec1a-4ffc-fa5e-35f1bdaadc81"
      },
      "source": [
        "a = np.array([5,4,3])\n",
        "print(a)\n",
        "print(type(a))   # Arreglo unidimensional, vector?\n",
        "print(a[1])\n",
        "a.shape  # Muestra la forma del arreglo, (3,) = tiene tres elementos"
      ],
      "execution_count": null,
      "outputs": [
        {
          "output_type": "stream",
          "text": [
            "[5 4 3]\n",
            "<class 'numpy.ndarray'>\n",
            "4\n"
          ],
          "name": "stdout"
        },
        {
          "output_type": "execute_result",
          "data": {
            "text/plain": [
              "(3,)"
            ]
          },
          "metadata": {
            "tags": []
          },
          "execution_count": 30
        }
      ]
    },
    {
      "cell_type": "code",
      "metadata": {
        "colab": {
          "base_uri": "https://localhost:8080/"
        },
        "id": "BJbGML-iQrS5",
        "outputId": "e8dcd373-bc66-49b5-b3d7-f8c62c2ad163"
      },
      "source": [
        "b = np.array([[4,5,3],[6,2,3]])\n",
        "b"
      ],
      "execution_count": null,
      "outputs": [
        {
          "output_type": "execute_result",
          "data": {
            "text/plain": [
              "array([[4, 5, 3],\n",
              "       [6, 2, 3]])"
            ]
          },
          "metadata": {
            "tags": []
          },
          "execution_count": 37
        }
      ]
    },
    {
      "cell_type": "code",
      "metadata": {
        "colab": {
          "base_uri": "https://localhost:8080/"
        },
        "id": "aTNPAOpzwehU",
        "outputId": "6c6d5425-0612-4d01-ed7e-90452c06301e"
      },
      "source": [
        "b.shape  # (2,3) 2 filas y 3 columnas"
      ],
      "execution_count": null,
      "outputs": [
        {
          "output_type": "execute_result",
          "data": {
            "text/plain": [
              "(2, 3)"
            ]
          },
          "metadata": {
            "tags": []
          },
          "execution_count": 38
        }
      ]
    },
    {
      "cell_type": "code",
      "metadata": {
        "colab": {
          "base_uri": "https://localhost:8080/"
        },
        "id": "b5QDyLW5w3cH",
        "outputId": "841729f8-8799-4530-a334-b23bef755a9c"
      },
      "source": [
        "b[1,1]  # elemento de la posición (fila 1, columna 1)"
      ],
      "execution_count": null,
      "outputs": [
        {
          "output_type": "execute_result",
          "data": {
            "text/plain": [
              "2"
            ]
          },
          "metadata": {
            "tags": []
          },
          "execution_count": 42
        }
      ]
    },
    {
      "cell_type": "code",
      "metadata": {
        "colab": {
          "base_uri": "https://localhost:8080/"
        },
        "id": "VU6FzSPiQ5YD",
        "outputId": "ec9a75bd-0b9a-4ff7-dbbe-4c16c526a8c5"
      },
      "source": [
        "matriz = np.zeros((3,4)) #crear matriz de ceros ( 3 filas, 4 columnas)\n",
        "matriz"
      ],
      "execution_count": null,
      "outputs": [
        {
          "output_type": "execute_result",
          "data": {
            "text/plain": [
              "array([[0., 0., 0., 0.],\n",
              "       [0., 0., 0., 0.],\n",
              "       [0., 0., 0., 0.]])"
            ]
          },
          "metadata": {
            "tags": []
          },
          "execution_count": 43
        }
      ]
    },
    {
      "cell_type": "code",
      "metadata": {
        "colab": {
          "base_uri": "https://localhost:8080/"
        },
        "id": "VutSMM2QRoz4",
        "outputId": "af4dcfd3-dab5-46e3-be93-a1261dc2ead1"
      },
      "source": [
        "matriz = np.zeros((3,4,5)) # matriz de ceros (3 matrices, 4 filas, 5 columnas)\n",
        "matriz"
      ],
      "execution_count": null,
      "outputs": [
        {
          "output_type": "execute_result",
          "data": {
            "text/plain": [
              "array([[[0., 0., 0., 0., 0.],\n",
              "        [0., 0., 0., 0., 0.],\n",
              "        [0., 0., 0., 0., 0.],\n",
              "        [0., 0., 0., 0., 0.]],\n",
              "\n",
              "       [[0., 0., 0., 0., 0.],\n",
              "        [0., 0., 0., 0., 0.],\n",
              "        [0., 0., 0., 0., 0.],\n",
              "        [0., 0., 0., 0., 0.]],\n",
              "\n",
              "       [[0., 0., 0., 0., 0.],\n",
              "        [0., 0., 0., 0., 0.],\n",
              "        [0., 0., 0., 0., 0.],\n",
              "        [0., 0., 0., 0., 0.]]])"
            ]
          },
          "metadata": {
            "tags": []
          },
          "execution_count": 20
        }
      ]
    },
    {
      "cell_type": "code",
      "metadata": {
        "colab": {
          "base_uri": "https://localhost:8080/"
        },
        "id": "vsbZYJINEupy",
        "outputId": "08f41cfb-f0d4-482c-8821-9f1aa51739bd"
      },
      "source": [
        "matriz7 = np.full((3,4),7) # np.full crea la matriz que uno quiera\n",
        "matriz7"
      ],
      "execution_count": null,
      "outputs": [
        {
          "output_type": "execute_result",
          "data": {
            "text/plain": [
              "array([[7, 7, 7, 7],\n",
              "       [7, 7, 7, 7],\n",
              "       [7, 7, 7, 7]])"
            ]
          },
          "metadata": {
            "tags": []
          },
          "execution_count": 45
        }
      ]
    },
    {
      "cell_type": "code",
      "metadata": {
        "colab": {
          "base_uri": "https://localhost:8080/"
        },
        "id": "pD_7mEQRHXfL",
        "outputId": "a71fdca7-793f-4438-c651-84017ff489c0"
      },
      "source": [
        "matriz_random = np.random.random((10,10)) # Matriz de datos aleatorios\n",
        "matriz_random"
      ],
      "execution_count": null,
      "outputs": [
        {
          "output_type": "execute_result",
          "data": {
            "text/plain": [
              "array([[0.28066154, 0.26182861, 0.58375625, 0.33598117, 0.59815825,\n",
              "        0.13271036, 0.75548707, 0.65793179, 0.20915166, 0.75484011],\n",
              "       [0.15083028, 0.04241082, 0.55793159, 0.21578784, 0.12684995,\n",
              "        0.79742494, 0.51932717, 0.49202726, 0.92232276, 0.27523951],\n",
              "       [0.57637282, 0.3421617 , 0.00970275, 0.99343257, 0.61020031,\n",
              "        0.14848631, 0.6615058 , 0.41744721, 0.16765234, 0.47464303],\n",
              "       [0.14191607, 0.8928738 , 0.96144454, 0.19533198, 0.41635085,\n",
              "        0.65351691, 0.11429545, 0.48151182, 0.04097985, 0.04753523],\n",
              "       [0.31800005, 0.61330644, 0.96590736, 0.01796186, 0.48609427,\n",
              "        0.12445085, 0.46647844, 0.61715875, 0.12947289, 0.20896988],\n",
              "       [0.09997785, 0.67601617, 0.44758808, 0.29795993, 0.07239463,\n",
              "        0.5089599 , 0.50709857, 0.32996954, 0.13379981, 0.85864432],\n",
              "       [0.81505814, 0.46724613, 0.83952701, 0.55910963, 0.30117252,\n",
              "        0.91988633, 0.50754707, 0.02660486, 0.98115049, 0.06491035],\n",
              "       [0.70956782, 0.51742974, 0.69550103, 0.0742847 , 0.92826472,\n",
              "        0.99320806, 0.94266266, 0.05016942, 0.09495902, 0.41785255],\n",
              "       [0.25930091, 0.58250454, 0.54317183, 0.80776528, 0.59853387,\n",
              "        0.23138704, 0.92131801, 0.77615172, 0.12249864, 0.64319596],\n",
              "       [0.21962331, 0.57777118, 0.01138377, 0.19488546, 0.98479103,\n",
              "        0.77126831, 0.23489795, 0.47454057, 0.23066359, 0.67061016]])"
            ]
          },
          "metadata": {
            "tags": []
          },
          "execution_count": 51
        }
      ]
    },
    {
      "cell_type": "code",
      "metadata": {
        "colab": {
          "base_uri": "https://localhost:8080/"
        },
        "id": "-q--UIYzRq9_",
        "outputId": "d524835d-8e96-454f-b31d-c0a32b68f5ae"
      },
      "source": [
        "matriz2 = np.array([[4,5,8,9], [6,89,70,45], [200, 677, 900, 456]])\n",
        "x\n",
        "y = x[0:2,1:3]\n",
        "y"
      ],
      "execution_count": null,
      "outputs": [
        {
          "output_type": "execute_result",
          "data": {
            "text/plain": [
              "array([[ 5,  8],\n",
              "       [89, 70]])"
            ]
          },
          "metadata": {
            "tags": []
          },
          "execution_count": 26
        }
      ]
    },
    {
      "cell_type": "code",
      "metadata": {
        "colab": {
          "base_uri": "https://localhost:8080/"
        },
        "id": "A3uF7VyZIioU",
        "outputId": "8bbfd8fb-2479-41d1-84c2-2e804c151af6"
      },
      "source": [
        "z = x[:2,:3]  #??\n",
        "z"
      ],
      "execution_count": null,
      "outputs": [
        {
          "output_type": "execute_result",
          "data": {
            "text/plain": [
              "array([[ 4,  5,  8],\n",
              "       [ 6, 89, 70]])"
            ]
          },
          "metadata": {
            "tags": []
          },
          "execution_count": 52
        }
      ]
    },
    {
      "cell_type": "markdown",
      "metadata": {
        "id": "qTohonboQYIm"
      },
      "source": [
        "#**MATRICES**"
      ]
    },
    {
      "cell_type": "code",
      "metadata": {
        "id": "F9kdrh5sMrev"
      },
      "source": [
        "from numpy import random as r"
      ],
      "execution_count": null,
      "outputs": []
    },
    {
      "cell_type": "code",
      "metadata": {
        "colab": {
          "base_uri": "https://localhost:8080/"
        },
        "id": "KOM2yR2sNqoV",
        "outputId": "ef15b4dc-3ca7-47c2-a3ff-fee2e9aeefb9"
      },
      "source": [
        "print(r.choice(['Andres', 'Juan', 'Pedro', 'Mateo'], size= r.choice([1,3],p=[0.1,0.9]), p=[0.5,0.2,0.2,0.1], replace=False))"
      ],
      "execution_count": null,
      "outputs": [
        {
          "output_type": "stream",
          "text": [
            "['Juan' 'Pedro' 'Andres']\n"
          ],
          "name": "stdout"
        }
      ]
    },
    {
      "cell_type": "code",
      "metadata": {
        "colab": {
          "base_uri": "https://localhost:8080/"
        },
        "id": "5ZqhOcYTY2_m",
        "outputId": "56458de2-e173-4cac-b4f0-051756a59915"
      },
      "source": [
        "a = np.array([34,25,7])\n",
        "a"
      ],
      "execution_count": null,
      "outputs": [
        {
          "output_type": "execute_result",
          "data": {
            "text/plain": [
              "array([34, 25,  7])"
            ]
          },
          "metadata": {
            "tags": []
          },
          "execution_count": 103
        }
      ]
    }
  ]
}